{
  "nbformat": 4,
  "nbformat_minor": 0,
  "metadata": {
    "colab": {
      "provenance": [],
      "authorship_tag": "ABX9TyPSNKhFOEHegs9oXDeYFOe2",
      "include_colab_link": true
    },
    "kernelspec": {
      "name": "python3",
      "display_name": "Python 3"
    },
    "language_info": {
      "name": "python"
    }
  },
  "cells": [
    {
      "cell_type": "markdown",
      "metadata": {
        "id": "view-in-github",
        "colab_type": "text"
      },
      "source": [
        "<a href=\"https://colab.research.google.com/github/2303A51867/2303A51867.aiml/blob/main/A1_part3.ipynb\" target=\"_parent\"><img src=\"https://colab.research.google.com/assets/colab-badge.svg\" alt=\"Open In Colab\"/></a>"
      ]
    },
    {
      "cell_type": "code",
      "execution_count": null,
      "metadata": {
        "id": "ad4-EYXLPXye"
      },
      "outputs": [],
      "source": [
        "# Import necessary libraries\n",
        "from google.colab import files\n",
        "import pandas as pd\n",
        "\n",
        "# Upload a file from your local system\n",
        "uploaded = files.upload()\n",
        "\n",
        "# Get the filename from the uploaded files\n",
        "file_name = list(uploaded.keys())[0]\n",
        "print(f\"Uploaded file: {file_name}\")\n",
        "\n",
        "# Based on the file type, use appropriate functions to read the file\n",
        "\n",
        "# If it's a CSV file\n",
        "if file_name.endswith('.csv'):\n",
        "    data = pd.read_csv(file_name)\n",
        "    print(data.head())\n",
        "\n",
        "# If it's a TSV file\n",
        "elif file_name.endswith('.tsv'):\n",
        "    data = pd.read_csv(file_name, sep='\\t')\n",
        "    print(data.head())\n",
        "\n",
        "# If it's an Excel file\n",
        "elif file_name.endswith('.xlsx'):\n",
        "    data = pd.read_excel(file_name)\n",
        "    print(data.head())\n",
        "\n",
        "# If it's a text file\n",
        "elif file_name.endswith('.txt'):\n",
        "    with open(file_name, 'r') as file:\n",
        "        content = file.read()\n",
        "    print(content[:500])  # Print the first 500 characters of the text file\n"
      ]
    }
  ]
}