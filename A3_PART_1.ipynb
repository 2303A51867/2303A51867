{
  "nbformat": 4,
  "nbformat_minor": 0,
  "metadata": {
    "colab": {
      "provenance": [],
      "authorship_tag": "ABX9TyNYAqqfjAiDTW01BE2ON3F3",
      "include_colab_link": true
    },
    "kernelspec": {
      "name": "python3",
      "display_name": "Python 3"
    },
    "language_info": {
      "name": "python"
    }
  },
  "cells": [
    {
      "cell_type": "markdown",
      "metadata": {
        "id": "view-in-github",
        "colab_type": "text"
      },
      "source": [
        "<a href=\"https://colab.research.google.com/github/2303A51867/2303A51867.aiml/blob/main/A3_PART_1.ipynb\" target=\"_parent\"><img src=\"https://colab.research.google.com/assets/colab-badge.svg\" alt=\"Open In Colab\"/></a>"
      ]
    },
    {
      "cell_type": "code",
      "execution_count": 2,
      "metadata": {
        "colab": {
          "base_uri": "https://localhost:8080/"
        },
        "id": "YBPsVD5UH4Su",
        "outputId": "af991b88-ac10-4b57-ed24-4e6a20322f2b"
      },
      "outputs": [
        {
          "output_type": "stream",
          "name": "stdout",
          "text": [
            "Player X move: 7\n",
            "[' ', ' ', ' ', ' ', ' ', ' ', ' ', 'X', ' ']\n",
            "Player O move: 8\n",
            "[' ', ' ', ' ', ' ', ' ', ' ', ' ', 'X', 'X']\n",
            "Player O move: 6\n",
            "[' ', ' ', ' ', ' ', ' ', ' ', 'X', 'X', 'X']\n",
            "Final state: [' ', ' ', ' ', ' ', ' ', ' ', 'X', 'X', 'X']\n"
          ]
        }
      ],
      "source": [
        "from abc import ABC, abstractmethod\n",
        "import random\n",
        "\n",
        "# Base Game class\n",
        "class Game(ABC):\n",
        "    def __init__(self, initial_state):\n",
        "        self.initial = initial_state\n",
        "\n",
        "    @abstractmethod\n",
        "    def actions(self, state):\n",
        "        \"\"\"Return a collection of the allowable moves from this state.\"\"\"\n",
        "        pass\n",
        "\n",
        "    @abstractmethod\n",
        "    def result(self, state, move):\n",
        "        \"\"\"Return the state that results from making a move from a state.\"\"\"\n",
        "        pass\n",
        "\n",
        "    def is_terminal(self, state):\n",
        "        \"\"\"Return True if this is a final state for the game.\"\"\"\n",
        "        return not self.actions(state)\n",
        "\n",
        "    @abstractmethod\n",
        "    def utility(self, state, player):\n",
        "        \"\"\"Return the value of this final state to player.\"\"\"\n",
        "        pass\n",
        "\n",
        "# TicTacToe game subclass\n",
        "class TicTacToe(Game):\n",
        "    def __init__(self, initial_state=None):\n",
        "        if initial_state is None:\n",
        "            initial_state = [' '] * 9\n",
        "        super().__init__(initial_state)\n",
        "\n",
        "    def actions(self, state):\n",
        "        return [i for i, cell in enumerate(state) if cell == ' ']\n",
        "\n",
        "    def result(self, state, move):\n",
        "        new_state = state[:]\n",
        "        new_state[move] = 'X'  # Assume 'X' is the current player\n",
        "        return new_state\n",
        "\n",
        "    def is_terminal(self, state):\n",
        "        return any(self.utility(state, player) for player in ['X', 'O']) or ' ' not in state\n",
        "\n",
        "    def utility(self, state, player):\n",
        "        # Utility function to evaluate the state\n",
        "        winning_positions = [\n",
        "            (0, 1, 2), (3, 4, 5), (6, 7, 8),  # Rows\n",
        "            (0, 3, 6), (1, 4, 7), (2, 5, 8),  # Columns\n",
        "            (0, 4, 8), (2, 4, 6)              # Diagonals\n",
        "        ]\n",
        "        for a, b, c in winning_positions:\n",
        "            if state[a] == state[b] == state[c] == player:\n",
        "                return 1 if player == 'X' else -1\n",
        "        return 0\n",
        "\n",
        "# Function to play the game\n",
        "def play_game(game, strategies, verbose=False):\n",
        "    \"\"\"Play a turn-taking game. ‘strategies‘ is a {player name: function} dict,\n",
        "    where function(state, game) is used to get the player’s move.\"\"\"\n",
        "    state = game.initial\n",
        "    while not game.is_terminal(state):\n",
        "        player = 'X' if state.count('X') <= state.count('O') else 'O'\n",
        "        move = strategies[player](game, state)\n",
        "        state = game.result(state, move)\n",
        "        if verbose:\n",
        "            print(f'Player {player} move: {move}')\n",
        "            print(state)\n",
        "    return state\n",
        "\n",
        "# Example strategy function\n",
        "def random_strategy(game, state):\n",
        "    return random.choice(game.actions(state))\n",
        "\n",
        "# Example usage\n",
        "if __name__ == \"__main__\":\n",
        "    game = TicTacToe()\n",
        "    strategies = {'X': random_strategy, 'O': random_strategy}\n",
        "    final_state = play_game(game, strategies, verbose=True)\n",
        "    print(\"Final state:\", final_state)\n"
      ]
    },
    {
      "cell_type": "code",
      "source": [],
      "metadata": {
        "id": "nVH2Fjc_Ijh4"
      },
      "execution_count": null,
      "outputs": []
    }
  ]
}