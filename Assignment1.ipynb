{
  "nbformat": 4,
  "nbformat_minor": 0,
  "metadata": {
    "colab": {
      "provenance": [],
      "authorship_tag": "ABX9TyMsuH2HTZhjSYlrFlcBhpX3",
      "include_colab_link": true
    },
    "kernelspec": {
      "name": "python3",
      "display_name": "Python 3"
    },
    "language_info": {
      "name": "python"
    }
  },
  "cells": [
    {
      "cell_type": "markdown",
      "metadata": {
        "id": "view-in-github",
        "colab_type": "text"
      },
      "source": [
        "<a href=\"https://colab.research.google.com/github/2303A51867/2303A51867/blob/main/Assignment1.ipynb\" target=\"_parent\"><img src=\"https://colab.research.google.com/assets/colab-badge.svg\" alt=\"Open In Colab\"/></a>"
      ]
    },
    {
      "cell_type": "code",
      "execution_count": null,
      "metadata": {
        "colab": {
          "base_uri": "https://localhost:8080/"
        },
        "id": "vkYDVudf7CFI",
        "outputId": "3898bf97-7540-4f2f-b452-627960c22261"
      },
      "outputs": [
        {
          "output_type": "stream",
          "name": "stdout",
          "text": [
            "['apple' 'banana' 'cherry']\n",
            "[1 2 3 4 5]\n",
            "1\n",
            "[2 3 4]\n",
            "[1 2 3 4 5 6]\n",
            "[ 1  2 99  3  4  5  6]\n",
            "[1 2 3 4 5 6]\n",
            " Array: [1 2 3 4 5 6]\n",
            "Type of np_array: <class 'numpy.ndarray'>\n",
            "Array Multiplication: [ 2  4  6  8 10]\n",
            " Array Division: [0.5 1.  1.5 2.  2.5]\n",
            " Array Power: [ 1  4  9 16 25]\n",
            "Addition of Two:\n",
            "[1 2 3 4 5] + [5 4 3 2 1] = [6 6 6 6 6]\n"
          ]
        }
      ],
      "source": [
        "\n",
        "#ARRAY\n",
        "import numpy as np\n",
        "thislist = np.array([\"apple\", \"banana\", \"cherry\"])\n",
        "print(thislist)\n",
        "array = np.array([1, 2, 3, 4, 5])\n",
        "print(array)\n",
        "# Access elements\n",
        "print(array[0])\n",
        "print(array[1:4])\n",
        "# Append to array\n",
        "array = np.append(array, 6)\n",
        "print(array)\n",
        "#insert elements\n",
        "array = np.insert(array, 2, 99)\n",
        "print(array)\n",
        "#delete elements\n",
        "array = np.delete(array, 2)\n",
        "print(array)\n",
        "#array type\n",
        "print(\" Array:\",array)\n",
        "print(\"Type of np_array:\", type(array))\n",
        "#array multiplication\n",
        "np_array1 = np.array([1, 2, 3, 4, 5])\n",
        "np_array2 = np.array([2, 2, 2, 2, 2])\n",
        "np_multiplication = np_array1 * np_array2\n",
        "print(\"Array Multiplication:\", np_multiplication)\n",
        "#array division\n",
        "np_division = np_array1 / np_array2\n",
        "print(\" Array Division:\", np_division)\n",
        "#array power\n",
        "np_power = np_array1 ** 2\n",
        "print(\" Array Power:\", np_power)\n",
        "#Combine text with Numpy fuction to generate a textual output - ”Addition of Two array1 +array 2:\"\n",
        "array1 = np.array([1, 2, 3, 4, 5])\n",
        "array2 = np.array([5, 4, 3, 2, 1])\n",
        "array_sum = array1 + array2\n",
        "textual_output = f\"Addition of Two:\\n{array1} + {array2} = {array_sum}\"\n",
        "print(textual_output)\n",
        "\n"
      ]
    }
  ]
}